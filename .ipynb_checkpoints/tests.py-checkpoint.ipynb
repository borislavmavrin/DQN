{
 "cells": [
  {
   "cell_type": "code",
   "execution_count": 1,
   "metadata": {},
   "outputs": [],
   "source": [
    "from utils.general import get_logger\n",
    "from utils.test_env import EnvTest\n",
    "from q1_schedule import LinearExploration, LinearSchedule\n",
    "from dqn import DQN\n",
    "from configs.q3_nature import config"
   ]
  },
  {
   "cell_type": "code",
   "execution_count": 2,
   "metadata": {},
   "outputs": [],
   "source": [
    "import tensorflow as tf\n",
    "import numpy as np\n",
    "tf.reset_default_graph()"
   ]
  },
  {
   "cell_type": "code",
   "execution_count": 3,
   "metadata": {},
   "outputs": [
    {
     "name": "stdout",
     "output_type": "stream",
     "text": [
      "WARNING:tensorflow:From /usr/local/lib/python2.7/site-packages/tensorflow/python/ops/clip_ops.py:113: calling reduce_sum (from tensorflow.python.ops.math_ops) with keep_dims is deprecated and will be removed in a future version.\n",
      "Instructions for updating:\n",
      "keep_dims is deprecated, use keepdims instead\n"
     ]
    },
    {
     "name": "stderr",
     "output_type": "stream",
     "text": [
      "From /usr/local/lib/python2.7/site-packages/tensorflow/python/ops/clip_ops.py:113: calling reduce_sum (from tensorflow.python.ops.math_ops) with keep_dims is deprecated and will be removed in a future version.\n",
      "Instructions for updating:\n",
      "keep_dims is deprecated, use keepdims instead\n"
     ]
    }
   ],
   "source": [
    "env = EnvTest((80, 80, 1))\n",
    "model = DQN(env, config)"
   ]
  },
  {
   "cell_type": "code",
   "execution_count": 4,
   "metadata": {},
   "outputs": [],
   "source": [
    "s = tf.ones([1, 80, 80, 4], dtype=tf.float32)\n",
    "sp = tf.ones([1, 80, 80, 4], dtype=tf.float32)"
   ]
  },
  {
   "cell_type": "code",
   "execution_count": 5,
   "metadata": {},
   "outputs": [],
   "source": [
    "def is_equal(x, y):\n",
    "    is_equal = tf.equal(x, y)\n",
    "    is_equal = tf.logical_not(is_equal)\n",
    "    is_equal = tf.cast(is_equal, tf.int32)\n",
    "    is_equal = tf.reduce_sum(is_equal)\n",
    "    is_equal = tf.equal(is_equal, 0)\n",
    "    return is_equal"
   ]
  },
  {
   "cell_type": "code",
   "execution_count": 6,
   "metadata": {},
   "outputs": [
    {
     "data": {
      "text/plain": [
       "True"
      ]
     },
     "execution_count": 6,
     "metadata": {},
     "output_type": "execute_result"
    }
   ],
   "source": [
    "sess = tf.Session()\n",
    "init = tf.global_variables_initializer()\n",
    "sess.run(init)\n",
    "sess.run(is_equal(s, sp))"
   ]
  },
  {
   "cell_type": "code",
   "execution_count": 7,
   "metadata": {
    "scrolled": false
   },
   "outputs": [],
   "source": [
    "q_test = model.get_q_values_op(s, scope=\"q_test\", reuse=False)\n",
    "target_q_test = model.get_q_values_op(sp, scope=\"target_q_test\", reuse=False)\n",
    "update_target_op = model.add_update_target_op(\"q_test\", \"target_q_test\")"
   ]
  },
  {
   "cell_type": "code",
   "execution_count": 8,
   "metadata": {},
   "outputs": [],
   "source": [
    "q_test_var_lst = tf.get_collection(\n",
    "    tf.GraphKeys.TRAINABLE_VARIABLES,\n",
    "    \"q_test\")\n",
    "target_q_test_var_lst = tf.get_collection(\n",
    "    tf.GraphKeys.TRAINABLE_VARIABLES,\n",
    "    \"target_q_test\")"
   ]
  },
  {
   "cell_type": "code",
   "execution_count": 9,
   "metadata": {},
   "outputs": [],
   "source": [
    "assert len(q_test_var_lst) == len(target_q_test_var_lst), \\\n",
    "  \"number of variables in q and target_q differ\""
   ]
  },
  {
   "cell_type": "code",
   "execution_count": 15,
   "metadata": {
    "scrolled": false
   },
   "outputs": [],
   "source": [
    "sess = tf.Session()\n",
    "init = tf.global_variables_initializer()\n",
    "sess.run(init)\n",
    "distance_before_lst = []\n",
    "\n",
    "# check difference before the update\n",
    "for idx in range(len(target_q_test_var_lst)):\n",
    "    # skip bias, since they are intialized with 0's\n",
    "    if 'bias' in q_test_var_lst[idx].name:\n",
    "        continue\n",
    "    distance_np = (sess.run(tf.norm(\n",
    "        q_test_var_lst[idx] -\n",
    "        target_q_test_var_lst[idx]\n",
    "    )))\n",
    "    distance_before_lst.append(distance_np)\n",
    "    \n",
    "assert np.mean(distance_before_lst) != 0., \\\n",
    "  'q and taget_q initialized with the same weights'\n",
    "\n",
    "# perform update\n",
    "sess.run(update_target_op)\n",
    "\n",
    "# check difference after the update\n",
    "distance_after_lst = []\n",
    "for idx in range(len(target_q_test_var_lst)):\n",
    "    # skip bias, since they are intialized with 0's\n",
    "    if 'bias' in q_test_var_lst[idx].name:\n",
    "        continue\n",
    "    distance_np = (sess.run(tf.norm(\n",
    "        q_test_var_lst[idx] -\n",
    "        target_q_test_var_lst[idx]\n",
    "    )))\n",
    "    distance_after_lst.append(distance_np)\n",
    "assert np.mean(distance_after_lst) == 0., \\\n",
    "  'q and taget_q weights are different after the update'"
   ]
  }
 ],
 "metadata": {
  "kernelspec": {
   "display_name": "Python 2",
   "language": "python",
   "name": "python2"
  },
  "language_info": {
   "codemirror_mode": {
    "name": "ipython",
    "version": 2
   },
   "file_extension": ".py",
   "mimetype": "text/x-python",
   "name": "python",
   "nbconvert_exporter": "python",
   "pygments_lexer": "ipython2",
   "version": "2.7.14"
  }
 },
 "nbformat": 4,
 "nbformat_minor": 2
}
