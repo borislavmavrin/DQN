{
 "cells": [
  {
   "cell_type": "code",
   "execution_count": 1,
   "metadata": {},
   "outputs": [],
   "source": [
    "from utils.general import get_logger\n",
    "from utils.test_env import EnvTest\n",
    "from q1_schedule import LinearExploration, LinearSchedule\n",
    "from dqn import DQN\n",
    "from configs.q3_nature import config"
   ]
  },
  {
   "cell_type": "code",
   "execution_count": null,
   "metadata": {},
   "outputs": [],
   "source": [
    "env = EnvTest((80, 80, 1))\n",
    "\n",
    "# exploration strategy\n",
    "exp_schedule = LinearExploration(env, config.eps_begin,\n",
    "                                 config.eps_end, config.eps_nsteps)\n",
    "\n",
    "# learning rate schedule\n",
    "lr_schedule = LinearSchedule(config.lr_begin, config.lr_end,\n",
    "                             config.lr_nsteps)\n",
    "\n",
    "# train model\n",
    "model = DQN(env, config)\n",
    "model.run(exp_schedule, lr_schedule)"
   ]
  }
 ],
 "metadata": {
  "kernelspec": {
   "display_name": "Python 2",
   "language": "python",
   "name": "python2"
  },
  "language_info": {
   "codemirror_mode": {
    "name": "ipython",
    "version": 2
   },
   "file_extension": ".py",
   "mimetype": "text/x-python",
   "name": "python",
   "nbconvert_exporter": "python",
   "pygments_lexer": "ipython2",
   "version": "2.7.14"
  }
 },
 "nbformat": 4,
 "nbformat_minor": 2
}
